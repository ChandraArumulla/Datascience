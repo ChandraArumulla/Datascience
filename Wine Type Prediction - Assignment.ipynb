{
 "cells": [
  {
   "cell_type": "markdown",
   "metadata": {},
   "source": [
    "# Wine Type Prediction\n",
    "- [The Wine Type Prediction dataset](https://archive.ics.uci.edu/ml/datasets/Wine) consists of data related to the chemical properties of various wines and classifies each wine into on1 of 3 possible classes. The columns in the dataset are as follows:\n",
    "\n",
    "|col name|description|\n",
    "|:--|:--|\n",
    "|target| This is the target variable to be predicted. There are three possible classes, class 1, 2 and 3 |\n",
    "|alcohol| continuous | \n",
    "|malic_acid| continuous | \n",
    "|ash| continuous | \n",
    "|alcalinity_of_ash| continuous |    \n",
    "|magnesium| continuous | \n",
    "|total_phenols| continuous | \n",
    "|flavanoids| continuous | \n",
    "|nonflavanoid_phenols| continuous | \n",
    "|proanthocyanins| continuous | \n",
    "|color_intensity| continuous | \n",
    "|hue| continuous | \n",
    "|od280/od315_of_diluted_wines| continuous | \n",
    "|proline| continuous | \n",
    "\n",
    "\n",
    "- The goal of this project is to build and tune a model to predict the `target` column using AWS Sagemaker and deploy the model as a `Serverless Inference Endpoint`\n",
    "\n",
    "## Tips: \n",
    "- You can use the below code to get the S3 bucket to write any artifacts to\n",
    "    ```\n",
    "    import sagemaker\n",
    "    session = sagemaker.Session()\n",
    "    bucket = session.default_bucket()\n",
    "    ```\n",
    "- What ML task is this? Classification? Regression? Clustering?\n",
    "- What are the data types of the columns? What pre-processing should you apply?\n",
    "- How to determine the best hyperparameters for the model?\n",
    "- How to test if the model is deployed successfully?"
   ]
  },
  {
   "cell_type": "code",
   "execution_count": null,
   "metadata": {},
   "outputs": [],
   "source": [
    "import pandas as pd\n",
    "\n",
    "cols = [\n",
    "    \"target\",\n",
    "    \"alcohol\", \n",
    "    \"malic_acid\", \n",
    "    \"ash\", \n",
    "    \"alcalinity_of_ash\",    \n",
    "    \"magnesium\", \n",
    "    \"total_phenols\", \n",
    "    \"flavanoids\", \n",
    "    \"nonflavanoid_phenols\", \n",
    "    \"proanthocyanins\", \n",
    "    \"color_intensity\", \n",
    "    \"hue\", \n",
    "    \"od280/od315_of_diluted_wines\", \n",
    "    \"proline\"\n",
    "]"
   ]
  },
  {
   "cell_type": "code",
   "execution_count": null,
   "metadata": {},
   "outputs": [],
   "source": [
    "wine_df = pd.read_csv(\"https://archive.ics.uci.edu/ml/machine-learning-databases/wine/wine.data\", names=cols)\n",
    "\n",
    "print(wine_df.shape)\n",
    "wine_df.head()"
   ]
  },
  {
   "cell_type": "markdown",
   "metadata": {},
   "source": [
    "## All the best!\n",
    "Get started below..."
   ]
  },
  {
   "cell_type": "code",
   "execution_count": null,
   "metadata": {},
   "outputs": [],
   "source": []
  },
  {
   "cell_type": "code",
   "execution_count": null,
   "metadata": {},
   "outputs": [],
   "source": []
  },
  {
   "cell_type": "code",
   "execution_count": null,
   "metadata": {},
   "outputs": [],
   "source": []
  }
 ],
 "metadata": {
  "instance_type": "ml.t3.medium",
  "kernelspec": {
   "display_name": "Python 3 (Data Science)",
   "language": "python",
   "name": "python3__SAGEMAKER_INTERNAL__arn:aws:sagemaker:us-east-1:081325390199:image/datascience-1.0"
  },
  "language_info": {
   "codemirror_mode": {
    "name": "ipython",
    "version": 3
   },
   "file_extension": ".py",
   "mimetype": "text/x-python",
   "name": "python",
   "nbconvert_exporter": "python",
   "pygments_lexer": "ipython3",
   "version": "3.7.10"
  }
 },
 "nbformat": 4,
 "nbformat_minor": 4
}
